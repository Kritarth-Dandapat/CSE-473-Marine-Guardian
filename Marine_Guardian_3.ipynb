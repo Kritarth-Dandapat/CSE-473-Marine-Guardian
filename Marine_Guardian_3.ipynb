{
  "nbformat": 4,
  "nbformat_minor": 0,
  "metadata": {
    "colab": {
      "provenance": [],
      "authorship_tag": "ABX9TyOId784bb4mljVwn3cpCjr+",
      "include_colab_link": true
    },
    "kernelspec": {
      "name": "python3",
      "display_name": "Python 3"
    },
    "language_info": {
      "name": "python"
    }
  },
  "cells": [
    {
      "cell_type": "markdown",
      "metadata": {
        "id": "view-in-github",
        "colab_type": "text"
      },
      "source": [
        "<a href=\"https://colab.research.google.com/github/Kritarth-Dandapat/CSE-473-Marine-Guardian/blob/master/Marine_Guardian_3.ipynb\" target=\"_parent\"><img src=\"https://colab.research.google.com/assets/colab-badge.svg\" alt=\"Open In Colab\"/></a>"
      ]
    },
    {
      "cell_type": "code",
      "source": [
        "import numpy as np\n",
        "import cv2\n",
        "import matplotlib.pyplot as plt\n",
        "from sklearn.model_selection import train_test_split\n",
        "from sklearn.metrics import classification_report, confusion_matrix\n",
        "import os\n",
        "from pathlib import Path\n",
        "import glob\n",
        "from scipy.fft import fft2, fftshift\n",
        "from scipy import ndimage\n",
        "import random"
      ],
      "metadata": {
        "id": "cwA0m5nfOIia"
      },
      "execution_count": 1,
      "outputs": []
    },
    {
      "cell_type": "code",
      "source": [
        "from google.colab import files\n",
        "files.upload()"
      ],
      "metadata": {
        "colab": {
          "base_uri": "https://localhost:8080/",
          "height": 92
        },
        "id": "8jCGYX6IO6Cm",
        "outputId": "899ff9a7-b674-40ec-aeaf-a33bf99ab1ca"
      },
      "execution_count": 5,
      "outputs": [
        {
          "output_type": "display_data",
          "data": {
            "text/plain": [
              "<IPython.core.display.HTML object>"
            ],
            "text/html": [
              "\n",
              "     <input type=\"file\" id=\"files-4ffd3cb4-e029-4b40-9f67-46bfd8f62ab2\" name=\"files[]\" multiple disabled\n",
              "        style=\"border:none\" />\n",
              "     <output id=\"result-4ffd3cb4-e029-4b40-9f67-46bfd8f62ab2\">\n",
              "      Upload widget is only available when the cell has been executed in the\n",
              "      current browser session. Please rerun this cell to enable.\n",
              "      </output>\n",
              "      <script>// Copyright 2017 Google LLC\n",
              "//\n",
              "// Licensed under the Apache License, Version 2.0 (the \"License\");\n",
              "// you may not use this file except in compliance with the License.\n",
              "// You may obtain a copy of the License at\n",
              "//\n",
              "//      http://www.apache.org/licenses/LICENSE-2.0\n",
              "//\n",
              "// Unless required by applicable law or agreed to in writing, software\n",
              "// distributed under the License is distributed on an \"AS IS\" BASIS,\n",
              "// WITHOUT WARRANTIES OR CONDITIONS OF ANY KIND, either express or implied.\n",
              "// See the License for the specific language governing permissions and\n",
              "// limitations under the License.\n",
              "\n",
              "/**\n",
              " * @fileoverview Helpers for google.colab Python module.\n",
              " */\n",
              "(function(scope) {\n",
              "function span(text, styleAttributes = {}) {\n",
              "  const element = document.createElement('span');\n",
              "  element.textContent = text;\n",
              "  for (const key of Object.keys(styleAttributes)) {\n",
              "    element.style[key] = styleAttributes[key];\n",
              "  }\n",
              "  return element;\n",
              "}\n",
              "\n",
              "// Max number of bytes which will be uploaded at a time.\n",
              "const MAX_PAYLOAD_SIZE = 100 * 1024;\n",
              "\n",
              "function _uploadFiles(inputId, outputId) {\n",
              "  const steps = uploadFilesStep(inputId, outputId);\n",
              "  const outputElement = document.getElementById(outputId);\n",
              "  // Cache steps on the outputElement to make it available for the next call\n",
              "  // to uploadFilesContinue from Python.\n",
              "  outputElement.steps = steps;\n",
              "\n",
              "  return _uploadFilesContinue(outputId);\n",
              "}\n",
              "\n",
              "// This is roughly an async generator (not supported in the browser yet),\n",
              "// where there are multiple asynchronous steps and the Python side is going\n",
              "// to poll for completion of each step.\n",
              "// This uses a Promise to block the python side on completion of each step,\n",
              "// then passes the result of the previous step as the input to the next step.\n",
              "function _uploadFilesContinue(outputId) {\n",
              "  const outputElement = document.getElementById(outputId);\n",
              "  const steps = outputElement.steps;\n",
              "\n",
              "  const next = steps.next(outputElement.lastPromiseValue);\n",
              "  return Promise.resolve(next.value.promise).then((value) => {\n",
              "    // Cache the last promise value to make it available to the next\n",
              "    // step of the generator.\n",
              "    outputElement.lastPromiseValue = value;\n",
              "    return next.value.response;\n",
              "  });\n",
              "}\n",
              "\n",
              "/**\n",
              " * Generator function which is called between each async step of the upload\n",
              " * process.\n",
              " * @param {string} inputId Element ID of the input file picker element.\n",
              " * @param {string} outputId Element ID of the output display.\n",
              " * @return {!Iterable<!Object>} Iterable of next steps.\n",
              " */\n",
              "function* uploadFilesStep(inputId, outputId) {\n",
              "  const inputElement = document.getElementById(inputId);\n",
              "  inputElement.disabled = false;\n",
              "\n",
              "  const outputElement = document.getElementById(outputId);\n",
              "  outputElement.innerHTML = '';\n",
              "\n",
              "  const pickedPromise = new Promise((resolve) => {\n",
              "    inputElement.addEventListener('change', (e) => {\n",
              "      resolve(e.target.files);\n",
              "    });\n",
              "  });\n",
              "\n",
              "  const cancel = document.createElement('button');\n",
              "  inputElement.parentElement.appendChild(cancel);\n",
              "  cancel.textContent = 'Cancel upload';\n",
              "  const cancelPromise = new Promise((resolve) => {\n",
              "    cancel.onclick = () => {\n",
              "      resolve(null);\n",
              "    };\n",
              "  });\n",
              "\n",
              "  // Wait for the user to pick the files.\n",
              "  const files = yield {\n",
              "    promise: Promise.race([pickedPromise, cancelPromise]),\n",
              "    response: {\n",
              "      action: 'starting',\n",
              "    }\n",
              "  };\n",
              "\n",
              "  cancel.remove();\n",
              "\n",
              "  // Disable the input element since further picks are not allowed.\n",
              "  inputElement.disabled = true;\n",
              "\n",
              "  if (!files) {\n",
              "    return {\n",
              "      response: {\n",
              "        action: 'complete',\n",
              "      }\n",
              "    };\n",
              "  }\n",
              "\n",
              "  for (const file of files) {\n",
              "    const li = document.createElement('li');\n",
              "    li.append(span(file.name, {fontWeight: 'bold'}));\n",
              "    li.append(span(\n",
              "        `(${file.type || 'n/a'}) - ${file.size} bytes, ` +\n",
              "        `last modified: ${\n",
              "            file.lastModifiedDate ? file.lastModifiedDate.toLocaleDateString() :\n",
              "                                    'n/a'} - `));\n",
              "    const percent = span('0% done');\n",
              "    li.appendChild(percent);\n",
              "\n",
              "    outputElement.appendChild(li);\n",
              "\n",
              "    const fileDataPromise = new Promise((resolve) => {\n",
              "      const reader = new FileReader();\n",
              "      reader.onload = (e) => {\n",
              "        resolve(e.target.result);\n",
              "      };\n",
              "      reader.readAsArrayBuffer(file);\n",
              "    });\n",
              "    // Wait for the data to be ready.\n",
              "    let fileData = yield {\n",
              "      promise: fileDataPromise,\n",
              "      response: {\n",
              "        action: 'continue',\n",
              "      }\n",
              "    };\n",
              "\n",
              "    // Use a chunked sending to avoid message size limits. See b/62115660.\n",
              "    let position = 0;\n",
              "    do {\n",
              "      const length = Math.min(fileData.byteLength - position, MAX_PAYLOAD_SIZE);\n",
              "      const chunk = new Uint8Array(fileData, position, length);\n",
              "      position += length;\n",
              "\n",
              "      const base64 = btoa(String.fromCharCode.apply(null, chunk));\n",
              "      yield {\n",
              "        response: {\n",
              "          action: 'append',\n",
              "          file: file.name,\n",
              "          data: base64,\n",
              "        },\n",
              "      };\n",
              "\n",
              "      let percentDone = fileData.byteLength === 0 ?\n",
              "          100 :\n",
              "          Math.round((position / fileData.byteLength) * 100);\n",
              "      percent.textContent = `${percentDone}% done`;\n",
              "\n",
              "    } while (position < fileData.byteLength);\n",
              "  }\n",
              "\n",
              "  // All done.\n",
              "  yield {\n",
              "    response: {\n",
              "      action: 'complete',\n",
              "    }\n",
              "  };\n",
              "}\n",
              "\n",
              "scope.google = scope.google || {};\n",
              "scope.google.colab = scope.google.colab || {};\n",
              "scope.google.colab._files = {\n",
              "  _uploadFiles,\n",
              "  _uploadFilesContinue,\n",
              "};\n",
              "})(self);\n",
              "</script> "
            ]
          },
          "metadata": {}
        },
        {
          "output_type": "stream",
          "name": "stdout",
          "text": [
            "Saving kaggle.json to kaggle.json\n"
          ]
        },
        {
          "output_type": "execute_result",
          "data": {
            "text/plain": [
              "{'kaggle.json': b'{\"username\":\"kritarthdandapat2006\",\"key\":\"3ce3ab5ee491850819638274f0b18087\"}'}"
            ]
          },
          "metadata": {},
          "execution_count": 5
        }
      ]
    },
    {
      "cell_type": "code",
      "source": [
        "!mkdir -p ~/.kaggle\n",
        "!mv kaggle.json ~/.kaggle/"
      ],
      "metadata": {
        "id": "WURHOiR8O7nX"
      },
      "execution_count": 6,
      "outputs": []
    },
    {
      "cell_type": "code",
      "source": [
        "import os\n",
        "import subprocess\n",
        "\n",
        "dataset_slug = \"rhammell/ships-in-satellite-imagery\"\n",
        "destination_path = \"./ships_dataset\"\n",
        "\n",
        "# Create destination directory if it doesn't exist\n",
        "os.makedirs(destination_path, exist_ok=True)\n",
        "\n",
        "# Path to the zip file\n",
        "zip_file_path = os.path.join(destination_path, f\"{dataset_slug.split('/')[1]}.zip\")\n",
        "\n",
        "# Check if the dataset already exists\n",
        "if os.path.exists(zip_file_path):\n",
        "    print(f\"Dataset '{dataset_slug}' already exists at '{destination_path}'. Skipping download.\")\n",
        "else:\n",
        "    try:\n",
        "        # Download the dataset if not already present\n",
        "        command = [\"kaggle\", \"datasets\", \"download\", \"-d\", dataset_slug, \"-p\", destination_path]\n",
        "        subprocess.run(command, check=True)\n",
        "        print(f\"Dataset '{dataset_slug}' downloaded successfully to '{destination_path}'.\")\n",
        "    except subprocess.CalledProcessError as e:\n",
        "        print(f\"Error downloading dataset '{dataset_slug}': {e}\")\n",
        "    except FileNotFoundError:\n",
        "        print(\"Kaggle API not found. Please ensure the Kaggle CLI is installed and configured.\")\n",
        "        print(\"You can install it using: pip install kaggle\")\n",
        "        print(\"And configure it by placing your kaggle.json file in ~/.kaggle/\")\n",
        "    except Exception as e:\n",
        "        print(f\"An unexpected error occurred: {e}\")"
      ],
      "metadata": {
        "colab": {
          "base_uri": "https://localhost:8080/"
        },
        "id": "NOvu4WedO4ig",
        "outputId": "ac9f4dbc-eae4-4fb3-992e-72c3e4b110c6"
      },
      "execution_count": 7,
      "outputs": [
        {
          "output_type": "stream",
          "name": "stdout",
          "text": [
            "Dataset 'rhammell/ships-in-satellite-imagery' downloaded successfully to './ships_dataset'.\n"
          ]
        }
      ]
    },
    {
      "cell_type": "code",
      "source": [
        "!unzip -q /content/ships_dataset/ships-in-satellite-imagery.zip -d /content/ships_dataset/"
      ],
      "metadata": {
        "id": "c37mVf3-PJDx"
      },
      "execution_count": 8,
      "outputs": []
    },
    {
      "cell_type": "code",
      "source": [
        "\n",
        "def load_grayscale_images(dataset_dir, img_size=(256, 256), max_samples=None, seed=None):\n",
        "    \"\"\"\n",
        "    Load grayscale images from a single directory, resize them,\n",
        "    and optionally limit the number of samples.\n",
        "    \"\"\"\n",
        "    rng = np.random.default_rng(seed) if seed is not None else np.random.default_rng()\n",
        "    image_paths = glob.glob(os.path.join(dataset_dir, '*.jpg')) + glob.glob(os.path.join(dataset_dir, '*.png'))\n",
        "\n",
        "    if max_samples is not None and len(image_paths) > max_samples:\n",
        "        rng.shuffle(image_paths)\n",
        "        image_paths = image_paths[:max_samples]\n",
        "\n",
        "    images = []\n",
        "    for img_path in image_paths:\n",
        "        img = cv2.imread(img_path, cv2.IMREAD_GRAYSCALE)\n",
        "        if img is not None:\n",
        "            img = cv2.resize(img, img_size)\n",
        "            images.append(img)\n",
        "\n",
        "    return np.array(images)"
      ],
      "metadata": {
        "id": "nKKYdL6jORvd"
      },
      "execution_count": 2,
      "outputs": []
    },
    {
      "cell_type": "code",
      "execution_count": 3,
      "metadata": {
        "id": "k-E8WOJdOCbe"
      },
      "outputs": [],
      "source": [
        "def calculate_roundness(gray_images):\n",
        "    all_roundness_values = []\n",
        "\n",
        "    for img in images:\n",
        "        # 1. Convert to Grayscale\n",
        "        if len(img.shape) > 2 and img.shape[2] > 1:\n",
        "            gray_image = cv2.cvtColor(img, cv2.COLOR_BGR2GRAY)  # Or COLOR_RGB2GRAY\n",
        "        else:\n",
        "            gray_image = img.copy()\n",
        "\n",
        "        # 2. Thresholding (if necessary)\n",
        "        if gray_image.dtype != np.uint8:\n",
        "            gray_image = (gray_image * 255).astype(np.uint8)\n",
        "        _, thresh = cv2.threshold(gray_image, 127, 255, cv2.THRESH_BINARY)\n",
        "\n",
        "        # 3. Find Contours\n",
        "        contours, _ = cv2.findContours(thresh, cv2.RETR_EXTERNAL, cv2.CHAIN_APPROX_SIMPLE)\n",
        "\n",
        "        # 4. Handle No Contours\n",
        "        if not contours:\n",
        "            all_roundness_values.append(None)\n",
        "            continue\n",
        "\n",
        "        # 5. Find the Largest Contour\n",
        "        largest_contour = max(contours, key=cv2.contourArea)\n",
        "\n",
        "        # 6. Calculate Area and Perimeter\n",
        "        area = cv2.contourArea(largest_contour)\n",
        "        perimeter = cv2.arcLength(largest_contour, True)\n",
        "\n",
        "        # 7. Handle Zero Perimeter\n",
        "        if perimeter == 0:\n",
        "            all_roundness_values.append(0.0)\n",
        "            continue\n",
        "\n",
        "        # 8. Calculate Roundness\n",
        "        roundness = (4 * np.pi * area) / (perimeter * perimeter)\n",
        "        all_roundness_values.append(roundness)\n",
        "\n",
        "    return np.array(all_roundness_values)"
      ]
    },
    {
      "cell_type": "code",
      "source": [
        "def filter_images_by_roundness(images, roundness_values, min_val=0.15, max_val=0.5):\n",
        "    \"\"\"\n",
        "    Returns images and roundness values where roundness is between min_val and max_val (inclusive).\n",
        "\n",
        "    Args:\n",
        "        images (list): List of images (numpy arrays).\n",
        "        roundness_values (list): Corresponding roundness values.\n",
        "        min_val (float): Minimum roundness value.\n",
        "        max_val (float): Maximum roundness value.\n",
        "\n",
        "    Returns:\n",
        "        filtered_images (list): Images with roundness in the specified range.\n",
        "        filtered_roundness (list): Corresponding roundness values.\n",
        "    \"\"\"\n",
        "    filtered_images = []\n",
        "    filtered_roundness = []\n",
        "\n",
        "    for img, r in zip(images, roundness_values):\n",
        "        if r is not None and min_val <= r <= max_val:\n",
        "            filtered_images.append(img)\n",
        "            filtered_roundness.append(r)\n",
        "\n",
        "    return filtered_images, filtered_roundness"
      ],
      "metadata": {
        "id": "bukcyvfoORFR"
      },
      "execution_count": 4,
      "outputs": []
    },
    {
      "cell_type": "code",
      "source": [
        "images = load_grayscale_images(\"/content/ships_dataset/shipsnet/shipsnet\", img_size=(128, 128), max_samples=4000, seed=42)"
      ],
      "metadata": {
        "id": "Hz0yFyTBOqEv"
      },
      "execution_count": 14,
      "outputs": []
    },
    {
      "cell_type": "code",
      "source": [
        "roundness_values = calculate_roundness(images)"
      ],
      "metadata": {
        "id": "jrHfQwiMPadT"
      },
      "execution_count": 15,
      "outputs": []
    },
    {
      "cell_type": "code",
      "source": [
        "filtered_imgs, filtered_roundness = filter_images_by_roundness(images, roundness_values)\n",
        "print(f\"Found {len(filtered_imgs)} images with roundness between 0.15 and 0.50.\")"
      ],
      "metadata": {
        "colab": {
          "base_uri": "https://localhost:8080/"
        },
        "id": "jr7S8GMyPSpC",
        "outputId": "bfec1048-3be6-4d3c-bbb3-9b646e74f617"
      },
      "execution_count": 16,
      "outputs": [
        {
          "output_type": "stream",
          "name": "stdout",
          "text": [
            "Found 2402 images with roundness between 0.15 and 0.50.\n"
          ]
        }
      ]
    },
    {
      "cell_type": "code",
      "source": [],
      "metadata": {
        "id": "ZRJSGN6wPW5N"
      },
      "execution_count": null,
      "outputs": []
    }
  ]
}